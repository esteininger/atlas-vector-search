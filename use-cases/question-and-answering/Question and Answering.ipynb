{
 "cells": [
  {
   "cell_type": "code",
   "execution_count": 1,
   "id": "9428196c",
   "metadata": {},
   "outputs": [
    {
     "name": "stderr",
     "output_type": "stream",
     "text": [
      "/usr/local/lib/python3.10/site-packages/tqdm/auto.py:22: TqdmWarning: IProgress not found. Please update jupyter and ipywidgets. See https://ipywidgets.readthedocs.io/en/stable/user_install.html\n",
      "  from .autonotebook import tqdm as notebook_tqdm\n"
     ]
    }
   ],
   "source": [
    "from sentence_transformers import SentenceTransformer, util\n",
    "\n",
    "# Load the model\n",
    "model = SentenceTransformer('sentence-transformers/all-MiniLM-L6-v2')"
   ]
  },
  {
   "cell_type": "code",
   "execution_count": 2,
   "id": "d426bca9",
   "metadata": {},
   "outputs": [],
   "source": [
    "# our calculation function\n",
    "def calculate(query_vector, corpus_vector):\n",
    "    # Compute dot score between query and all document embeddings\n",
    "    scores = util.dot_score(query_vector, corpus_vector)[0].cpu().tolist()\n",
    "    \n",
    "    # Combine docs & scores\n",
    "    doc_score_pairs = list(zip(docs, scores))\n",
    "\n",
    "    # Sort by decreasing score\n",
    "    doc_score_pairs = sorted(doc_score_pairs, key=lambda x: x[1], reverse=True)\n",
    "\n",
    "    # Output passages & scores\n",
    "    for doc, score in doc_score_pairs:\n",
    "        print(score, doc)"
   ]
  },
  {
   "cell_type": "code",
   "execution_count": 3,
   "id": "936d2aa7",
   "metadata": {},
   "outputs": [],
   "source": [
    "# set corpus from first page of wikipedia\n",
    "corpus = \"Japan is an island country in East Asia. It is situated in the northwest Pacific Ocean, and is bordered on the west by the Sea of Japan, while extending from the Sea of Okhotsk in the north toward the East China Sea, Philippine Sea, and Taiwan in the south. Japan is a part of the Ring of Fire, and spans an archipelago of 6852 islands covering 377,975 square kilometers (145,937 sq mi); the five main islands are Hokkaido, Honshu, Shikoku, Kyushu, and Okinawa. Tokyo is the nation's capital and largest city, followed by Yokohama, Osaka, Nagoya, Sapporo, Fukuoka, Kobe, and Kyoto. Japan is the eleventh most populous country in the world, as well as one of the most densely populated and urbanized. About three-fourths of the country's terrain is mountainous, concentrating its population of 125.5 million on narrow coastal plains. Japan is divided into 47 administrative prefectures and eight traditional regions. The Greater Tokyo Area is the most populous metropolitan area in the world, with more than 37.4 million residents. Japan has been inhabited since the Upper Paleolithic period (30,000 BC), though the first written mention of the archipelago appears in a Chinese chronicle (the Book of Han) finished in the 2nd century AD. Between the 4th and 9th centuries, the kingdoms of Japan became unified under an emperor and the imperial court based in Heian-kyō. Beginning in the 12th century, political power was held by a series of military dictators (shōgun) and feudal lords (daimyō) and enforced by a class of warrior nobility (samurai). After a century-long period of civil war, the country was reunified in 1603 under the Tokugawa shogunate, which enacted an isolationist foreign policy. In 1854, a United States fleet forced Japan to open trade to the West, which led to the end of the shogunate and the restoration of imperial power in 1868. In the Meiji period, the Empire of Japan adopted a Western-modeled constitution and pursued a program of industrialization and modernization. Amidst a rise in militarism and overseas colonization, Japan invaded China in 1937 and entered World War II as an Axis power in 1941. After suffering defeat in the Pacific War and two atomic bombings, Japan surrendered in 1945 and came under a seven-year Allied occupation, during which it adopted a new constitution and began a military alliance with the United States. Under the 1947 constitution, Japan has maintained a unitary parliamentary constitutional monarchy with a bicameral legislature, the National Diet. Japan is a highly developed country, and a great power in global politics. Its economy is the world's third-largest by nominal GDP and the fourth-largest by PPP. Although Japan has renounced its right to declare war, the country maintains Self-Defense Forces that rank as one of the world's strongest militaries. After World War II, Japan experienced record growth in an economic miracle, becoming the second-largest economy in the world by 1972 but has stagnated since 1995 in what is referred to as the Lost Decades. Japan has the world's highest life expectancy, though it is experiencing a decline in population. A global leader in the automotive, robotics and electronics industries, the country has made significant contributions to science and technology. The culture of Japan is well known around the world, including its art, cuisine, music, and popular culture, which encompasses prominent comic, animation and video game industries. It is a member of numerous international organizations, including the United Nations (since 1956), OECD, G20 and Group of Seven.\"\n",
    "# turn it into an array of sentences\n",
    "docs = corpus.split('.')\n",
    "# encode\n",
    "corpus_vector = model.encode(docs)"
   ]
  },
  {
   "cell_type": "code",
   "execution_count": 4,
   "id": "48b7cf26",
   "metadata": {},
   "outputs": [
    {
     "name": "stdout",
     "output_type": "stream",
     "text": [
      "0.7100932002067566  Amidst a rise in militarism and overseas colonization, Japan invaded China in 1937 and entered World War II as an Axis power in 1941\n",
      "0.5346982479095459 Japan is an island country in East Asia\n",
      "0.4997805058956146  Japan has been inhabited since the Upper Paleolithic period (30,000 BC), though the first written mention of the archipelago appears in a Chinese chronicle (the Book of Han) finished in the 2nd century AD\n",
      "0.4889580309391022  Japan is a highly developed country, and a great power in global politics\n",
      "0.4755154848098755  In 1854, a United States fleet forced Japan to open trade to the West, which led to the end of the shogunate and the restoration of imperial power in 1868\n",
      "0.4706335961818695  After suffering defeat in the Pacific War and two atomic bombings, Japan surrendered in 1945 and came under a seven-year Allied occupation, during which it adopted a new constitution and began a military alliance with the United States\n",
      "0.46497517824172974  Although Japan has renounced its right to declare war, the country maintains Self-Defense Forces that rank as one of the world's strongest militaries\n",
      "0.42571887373924255  Between the 4th and 9th centuries, the kingdoms of Japan became unified under an emperor and the imperial court based in Heian-kyō\n",
      "0.40558478236198425  After World War II, Japan experienced record growth in an economic miracle, becoming the second-largest economy in the world by 1972 but has stagnated since 1995 in what is referred to as the Lost Decades\n",
      "0.3999280333518982  In the Meiji period, the Empire of Japan adopted a Western-modeled constitution and pursued a program of industrialization and modernization\n",
      "0.39456087350845337  Japan is divided into 47 administrative prefectures and eight traditional regions\n",
      "0.37882107496261597  Tokyo is the nation's capital and largest city, followed by Yokohama, Osaka, Nagoya, Sapporo, Fukuoka, Kobe, and Kyoto\n",
      "0.36177363991737366  It is situated in the northwest Pacific Ocean, and is bordered on the west by the Sea of Japan, while extending from the Sea of Okhotsk in the north toward the East China Sea, Philippine Sea, and Taiwan in the south\n",
      "0.3548981547355652  Japan is the eleventh most populous country in the world, as well as one of the most densely populated and urbanized\n",
      "0.31934499740600586  Japan has the world's highest life expectancy, though it is experiencing a decline in population\n",
      "0.31604209542274475  Japan is a part of the Ring of Fire, and spans an archipelago of 6852 islands covering 377,975 square kilometers (145,937 sq mi); the five main islands are Hokkaido, Honshu, Shikoku, Kyushu, and Okinawa\n",
      "0.3026621341705322  The Greater Tokyo Area is the most populous metropolitan area in the world, with more than 37\n",
      "0.2995932996273041  Beginning in the 12th century, political power was held by a series of military dictators (shōgun) and feudal lords (daimyō) and enforced by a class of warrior nobility (samurai)\n",
      "0.29035213589668274  After a century-long period of civil war, the country was reunified in 1603 under the Tokugawa shogunate, which enacted an isolationist foreign policy\n",
      "0.2902640104293823  The culture of Japan is well known around the world, including its art, cuisine, music, and popular culture, which encompasses prominent comic, animation and video game industries\n",
      "0.25956544280052185  Under the 1947 constitution, Japan has maintained a unitary parliamentary constitutional monarchy with a bicameral legislature, the National Diet\n",
      "0.1448494791984558  Its economy is the world's third-largest by nominal GDP and the fourth-largest by PPP\n",
      "0.11519819498062134  A global leader in the automotive, robotics and electronics industries, the country has made significant contributions to science and technology\n",
      "0.09983943402767181  It is a member of numerous international organizations, including the United Nations (since 1956), OECD, G20 and Group of Seven\n",
      "0.08582335710525513 5 million on narrow coastal plains\n",
      "0.051192283630371094 \n",
      "0.049997881054878235 4 million residents\n",
      "0.02636442333459854  About three-fourths of the country's terrain is mountainous, concentrating its population of 125\n"
     ]
    }
   ],
   "source": [
    "# Encode our question and documents in 384 dimension\n",
    "query = \"when did japan invade china?\"\n",
    "query_vector = model.encode(query)\n",
    "\n",
    "calculate(query_vector, corpus_vector)"
   ]
  },
  {
   "cell_type": "code",
   "execution_count": null,
   "id": "8a1969cf",
   "metadata": {},
   "outputs": [],
   "source": []
  }
 ],
 "metadata": {
  "kernelspec": {
   "display_name": "Python 3 (ipykernel)",
   "language": "python",
   "name": "python3"
  },
  "language_info": {
   "codemirror_mode": {
    "name": "ipython",
    "version": 3
   },
   "file_extension": ".py",
   "mimetype": "text/x-python",
   "name": "python",
   "nbconvert_exporter": "python",
   "pygments_lexer": "ipython3",
   "version": "3.10.6"
  }
 },
 "nbformat": 4,
 "nbformat_minor": 5
}
